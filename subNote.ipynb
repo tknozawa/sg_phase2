{
 "cells": [
  {
   "cell_type": "code",
   "execution_count": 26,
   "metadata": {},
   "outputs": [
    {
     "name": "stdout",
     "output_type": "stream",
     "text": [
      "Index(['ID', '厚労省コード', '都道府県症例番号', '発症日', '確定日', '公表日', '全国地方公共団体コード',\n",
      "       '受診都道府県', '管理市区町村', '居住都道府県', '居住市区町村', '年代', '性別', '職業', '医療従事者ﾌﾗｸﾞ',\n",
      "       'ステータス', '退院済ﾌﾗｸﾞ', '基礎疾患ﾌﾗｸﾞ', '症状・経過', '症状一覧', '行動歴', '濃厚接触者状況',\n",
      "       '濃厚接触場所', '海外渡航歴ﾌﾗｸﾞ', 'ﾀﾞｲﾔﾓﾝﾄﾞﾌﾟﾘﾝｾｽ号乗船ﾌﾗｸﾞ', '情報源1', '情報源2', '備考',\n",
      "       'Unnamed: 28', 'Unnamed: 29', '都道府県コード', '都道府県症例番号.1'],\n",
      "      dtype='object')\n",
      "    ID 厚労省コード 都道府県症例番号         発症日         確定日         公表日  全国地方公共団体コード  \\\n",
      "0  1.0    NaN      1-1  2020/01/26         NaN  2020/01/28          NaN   \n",
      "1  2.0    NaN      1-2  2020/01/31  2020/02/14  2020/02/14          NaN   \n",
      "\n",
      "  受診都道府県 管理市区町村 居住都道府県    ...     濃厚接触場所 海外渡航歴ﾌﾗｸﾞ ﾀﾞｲﾔﾓﾝﾄﾞﾌﾟﾘﾝｾｽ号乗船ﾌﾗｸﾞ  \\\n",
      "0    北海道    NaN    NaN    ...        NaN         1                   0.0   \n",
      "1    北海道    NaN    北海道    ...        NaN         0                   0.0   \n",
      "\n",
      "                                                情報源1 情報源2   備考  Unnamed: 28  \\\n",
      "0  http://www.pref.hokkaido.lg.jp/hf/kth/kak/hass...  NaN  NaN          NaN   \n",
      "1  http://www.pref.hokkaido.lg.jp/hf/kth/kak/hass...  NaN  NaN          NaN   \n",
      "\n",
      "  Unnamed: 29 都道府県コード 都道府県症例番号.1  \n",
      "0         NaN     1.0        1.0  \n",
      "1         NaN     1.0        2.0  \n",
      "\n",
      "[2 rows x 32 columns]\n",
      "Index(['ID', 'Code_MHLW', 'Num_CaseByPref', 'Date_Onset', 'Date_Confirmed',\n",
      "       'Date_Opening', 'COde_JLG', 'SawDoctorByPref', 'SVtown',\n",
      "       'ResidenceByPref', 'ResidenceByTown', 'AgeRange', 'Sex', 'Occupation',\n",
      "       'Flag_MedicalWorker', 'Status', 'Flag_Discharge',\n",
      "       'Flag_UnderlyingIllness', 'Symptoms', 'List_Symptoms',\n",
      "       'BehaviorHistory', 'Status_HRContact', 'Place_HRContact',\n",
      "       'Flag_Outbound', 'Flag_EmberkDP', 'First_Info', 'Second_Info',\n",
      "       'Remarks', 'Unnamed: 28', 'Unnamed: 29', 'Code_Pref',\n",
      "       'Num_CaseByPref1'],\n",
      "      dtype='object')\n"
     ]
    }
   ],
   "source": [
    "import pandas as pd\n",
    "\n",
    "sigph2 = pd.read_csv(\"SIGNATECOVID-19CaseDataset.csv\")\n",
    "\n",
    "print(sigph2.columns)\n",
    "\n",
    "coldict = {\n",
    "    'ID': 'ID', \n",
    "    '厚労省コード': 'Code_MHLW', \n",
    "    '都道府県症例番号': 'Num_CaseByPref', \n",
    "    '発症日': 'Date_Onset', \n",
    "    '確定日': 'Date_Confirmed', \n",
    "    '公表日': 'Date_Opening', \n",
    "    '全国地方公共団体コード' : 'Code_JLG',\n",
    "    '受診都道府県': 'SawDoctorByPref', \n",
    "    '管理市区町村': 'SVtown', \n",
    "    '居住都道府県': 'ResidenceByPref', \n",
    "    '居住市区町村': 'ResidenceByTown', \n",
    "    '年代': 'AgeRange', \n",
    "    '性別': 'Sex', \n",
    "    '職業': 'Occupation', \n",
    "    '医療従事者ﾌﾗｸﾞ': 'Flag_MedicalWorker',\n",
    "    'ステータス': 'Status', \n",
    "    '退院済ﾌﾗｸﾞ': 'Flag_Discharge', \n",
    "    '基礎疾患ﾌﾗｸﾞ': 'Flag_UnderlyingIllness', \n",
    "    '症状・経過': 'Symptoms', \n",
    "    '症状一覧': 'List_Symptoms', \n",
    "    '行動歴': 'BehaviorHistory', \n",
    "    '濃厚接触者状況': 'Status_HRContact',\n",
    "    '濃厚接触場所': 'Place_HRContact', \n",
    "    '海外渡航歴ﾌﾗｸﾞ': 'Flag_Outbound', \n",
    "    'ﾀﾞｲﾔﾓﾝﾄﾞﾌﾟﾘﾝｾｽ号乗船ﾌﾗｸﾞ': 'Flag_EmberkDP', \n",
    "    '情報源1': 'First_Info', \n",
    "    '情報源2': 'Second_Info',  \n",
    "    '備考': 'Remarks',\n",
    "    'Unnamed: 28': 'Unnamed: 28', \n",
    "    'Unnamed: 29': 'Unnamed: 29', \n",
    "    '都道府県コード': 'Code_Pref', \n",
    "    '都道府県症例番号.1': 'Num_CaseByPref1'\n",
    "}\n",
    "\n",
    "sigph2 = sigph2.rename(columns=coldict)\n",
    "\n",
    "print(sigph2.columns)\n",
    "    \n",
    "sigph2.to_csv(\"sigph2.tsv\", sep='\\t', index=False)\n",
    "\n",
    "    "
   ]
  },
  {
   "cell_type": "code",
   "execution_count": 27,
   "metadata": {},
   "outputs": [
    {
     "name": "stdout",
     "output_type": "stream",
     "text": [
      "Index(['ID', 'Code_MHLW', 'Num_CaseByPref', 'Date_Onset', 'Date_Confirmed',\n",
      "       'Date_Opening', 'COde_JLG', 'SawDoctorByPref', 'SVtown',\n",
      "       'ResidenceByPref', 'ResidenceByTown', 'AgeRange', 'Sex', 'Occupation',\n",
      "       'Flag_MedicalWorker', 'Status', 'Flag_Discharge',\n",
      "       'Flag_UnderlyingIllness', 'Symptoms', 'List_Symptoms',\n",
      "       'BehaviorHistory', 'Status_HRContact', 'Place_HRContact',\n",
      "       'Flag_Outbound', 'Flag_EmberkDP', 'First_Info', 'Second_Info',\n",
      "       'Remarks', 'Unnamed: 28', 'Unnamed: 29', 'Code_Pref',\n",
      "       'Num_CaseByPref1'],\n",
      "      dtype='object')\n"
     ]
    }
   ],
   "source": [
    "import pandas as pd\n",
    "sigph2 = pd.read_csv(\"sigph2.csv\")\n",
    "\n",
    "print(sigph2.columns)\n"
   ]
  },
  {
   "cell_type": "code",
   "execution_count": null,
   "metadata": {},
   "outputs": [],
   "source": []
  }
 ],
 "metadata": {
  "kernelspec": {
   "display_name": "Python 3",
   "language": "python",
   "name": "python3"
  },
  "language_info": {
   "codemirror_mode": {
    "name": "ipython",
    "version": 3
   },
   "file_extension": ".py",
   "mimetype": "text/x-python",
   "name": "python",
   "nbconvert_exporter": "python",
   "pygments_lexer": "ipython3",
   "version": "3.5.5"
  }
 },
 "nbformat": 4,
 "nbformat_minor": 2
}
